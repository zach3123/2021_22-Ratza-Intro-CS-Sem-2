{
 "cells": [
  {
   "cell_type": "markdown",
   "metadata": {
    "collapsed": true,
    "pycharm": {
     "name": "#%% md\n"
    }
   },
   "source": [
    "# Variables and Numerical Types\n",
    "\n",
    "In Python everything is an `object`. This will make more sense as we go on but for now it's enough\n",
    "to understand that every `object` has a type, even object itself has a type (of type, type - confusing I know).\n",
    "This tells us what kind of data the object contains. Let's try this with some simple examples."
   ]
  },
  {
   "cell_type": "markdown",
   "source": [
    "To make our code more readable we can assign names to our objects and reference them as variables using the assignment operator `=`. Just like in the last lesson."
   ],
   "metadata": {
    "collapsed": false,
    "pycharm": {
     "name": "#%% md\n"
    }
   }
  },
  {
   "cell_type": "markdown",
   "source": [
    "This can be thought of as reading the sentence 'greeting is \"Hello\".'\n",
    "\n",
    "In Python variables can be reassigned at will. This has to do with the concept of mutability. In some languages there are both mutable and immutable variables. A mutable, or changeable, variable can be reassigned as desired, but an immutable variable is unchanging and cannot be reassigned. In Python variables are for the most part mutable, however it is possible to emulate immutability in Python if desired."
   ],
   "metadata": {
    "collapsed": false
   }
  },
  {
   "cell_type": "markdown",
   "source": [
    "We can assign variables using other variables as well."
   ],
   "metadata": {
    "collapsed": false
   }
  },
  {
   "cell_type": "markdown",
   "source": [
    "We want to be careful when declaring variables in Python because while these behaviours are extremely helpful they can also cause our programs to behave unexpectedly at runtime if we are not careful."
   ],
   "metadata": {
    "collapsed": false
   }
  },
  {
   "cell_type": "markdown",
   "source": [
    "Notice how the `custom_greeting` still uses the value of `greeting` as it existed at the time it was assigned."
   ],
   "metadata": {
    "collapsed": false
   }
  },
  {
   "cell_type": "markdown",
   "source": [
    "In Python, we can also chain assignments to assign multiple variables at the same time, this is known as chained assignment."
   ],
   "metadata": {
    "collapsed": false
   }
  },
  {
   "cell_type": "markdown",
   "source": [
    "Sometimes we may need to assign variables to two different things at the same time we can do that as well"
   ],
   "metadata": {
    "collapsed": false
   }
  },
  {
   "cell_type": "markdown",
   "source": [
    "There are some rules and guidelines about what we can name variables. In Python, variables must begin with a letter or underscore (underscores are for private variables). [PEP8](https://www.python.org/dev/peps/pep-0008/#naming-conventions) outlines the various naming conventions used by Python developers.\n",
    "\n",
    "In addition to these guidelines there are also reserved keywords which have specific meaning to the Python interpreter:\n",
    "\n",
    "\n",
    "Python\n",
    "Keywords\n",
    "```python\n",
    "False\tdef\tif\traise\n",
    "None\tdel\timport\treturn\n",
    "True\telif\tin\ttry\n",
    "and\telse\tis\twhile\n",
    "as\texcept\tlambda\twith\n",
    "assert\tfinally\tnonlocal\tyield\n",
    "break\tfor\tnot\n",
    "class\tfrom\tor\n",
    "continue\tglobal\tpass\n",
    "```"
   ],
   "metadata": {
    "collapsed": false
   }
  },
  {
   "cell_type": "markdown",
   "source": [
    "### Numerical Types\n",
    "\n",
    "Lets cover some basics about working with numbers in Python. There are two main numerical types in Python: integers and floats."
   ],
   "metadata": {
    "collapsed": false
   }
  },
  {
   "cell_type": "markdown",
   "source": [
    "The only limit to how long and integer can be is the memory available to the machine, in addition to standard notation Python supports scientific notation"
   ],
   "metadata": {
    "collapsed": false
   }
  },
  {
   "cell_type": "markdown",
   "source": [
    "Notice above that the two representations are not equal this is because of imprecision in converting between binary and base 10 systems.\n",
    "\n",
    "The maximum value of a float in Python is $1.8 * 10^{308}$"
   ],
   "metadata": {
    "collapsed": false
   }
  },
  {
   "cell_type": "markdown",
   "source": [
    "Anything larger than that is represented as infinity"
   ],
   "metadata": {
    "collapsed": false
   }
  },
  {
   "cell_type": "markdown",
   "source": [
    "In Python we can also represent complex numbers"
   ],
   "metadata": {
    "collapsed": false
   }
  },
  {
   "cell_type": "markdown",
   "source": [
    "Complex numbers have a real and imaginary component"
   ],
   "metadata": {
    "collapsed": false
   }
  },
  {
   "cell_type": "markdown",
   "source": [
    "If we wanted to find out the value of j when h is equal 12"
   ],
   "metadata": {
    "collapsed": false,
    "pycharm": {
     "name": "#%% md\n"
    }
   }
  }
 ],
 "metadata": {
  "kernelspec": {
   "name": "python3",
   "language": "python",
   "display_name": "Python 3 (ipykernel)"
  },
  "language_info": {
   "codemirror_mode": {
    "name": "ipython",
    "version": 2
   },
   "file_extension": ".py",
   "mimetype": "text/x-python",
   "name": "python",
   "nbconvert_exporter": "python",
   "pygments_lexer": "ipython2",
   "version": "2.7.6"
  }
 },
 "nbformat": 4,
 "nbformat_minor": 0
}
